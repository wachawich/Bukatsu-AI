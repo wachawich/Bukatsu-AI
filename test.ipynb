{
 "cells": [
  {
   "cell_type": "code",
   "execution_count": null,
   "id": "b8e87e0a",
   "metadata": {},
   "outputs": [],
   "source": []
  },
  {
   "cell_type": "code",
   "execution_count": null,
   "id": "0e4aa274",
   "metadata": {},
   "outputs": [],
   "source": []
  },
  {
   "cell_type": "code",
   "execution_count": 1,
   "id": "55a3a324",
   "metadata": {},
   "outputs": [],
   "source": [
    "activityTypeUserInteresting = [\n",
    "        {\n",
    "            \"activity_type_name\": \"กิจกรรมอาสา\"\n",
    "        },\n",
    "        {\n",
    "            \"activity_type_name\": \"ชมรม\"\n",
    "        },\n",
    "        {\n",
    "            \"activity_type_name\": \"กิจกรรมวิชาการ\"\n",
    "        }\n",
    "    ]"
   ]
  },
  {
   "cell_type": "code",
   "execution_count": 4,
   "id": "87dcee89",
   "metadata": {},
   "outputs": [
    {
     "name": "stdout",
     "output_type": "stream",
     "text": [
      "กิจกรรมอาสา\n",
      "ชมรม\n",
      "กิจกรรมวิชาการ\n",
      "['กิจกรรมอาสา', 'ชมรม', 'กิจกรรมวิชาการ']\n"
     ]
    }
   ],
   "source": [
    "l = []\n",
    "for acData in activityTypeUserInteresting:\n",
    "    l.append(acData['activity_type_name'])\n",
    "    print(acData['activity_type_name'])\n",
    "    \n",
    "print(l)"
   ]
  },
  {
   "cell_type": "code",
   "execution_count": 2,
   "id": "0f44879e",
   "metadata": {},
   "outputs": [
    {
     "data": {
      "text/plain": [
       "{'interesting': {'กิจกรรมอาสา': 0,\n",
       "  'Open House': 0,\n",
       "  'กิจกรรมคณะวิศวะ': 1,\n",
       "  'กิจกรรมคณะวิทย์': 1,\n",
       "  'อบรม': 0,\n",
       "  'ประกวด': 0,\n",
       "  'สัมมนา': 1,\n",
       "  'สันทนาการ': 0,\n",
       "  'ชมรม': 0,\n",
       "  'กิจกรรมวิชาการ': 1}}"
      ]
     },
     "execution_count": 2,
     "metadata": {},
     "output_type": "execute_result"
    }
   ],
   "source": [
    "activities = ['กิจกรรมอาสา', 'Open House', 'กิจกรรมคณะวิศวะ', 'กิจกรรมคณะวิทย์', 'อบรม', 'ประกวด', 'สัมมนา', 'สันทนาการ', 'ชมรม', 'กิจกรรมวิชาการ','กิจกรรมอาสา', 'Open House', 'กิจกรรมคณะวิศวะ', 'กิจกรรมคณะวิทย์', 'อบรม', 'ประกวด', 'สัมมนา', 'สันทนาการ', 'ชมรม', 'กิจกรรมวิชาการ', 'กิจกรรมคณะวิศวะ', 'กิจกรรมคณะวิทย์',]\n",
    "\n",
    "# รายการที่ต้องการให้มีค่าเป็น 1\n",
    "interesting_set = ['กิจกรรมคณะวิศวะ', 'กิจกรรมคณะวิทย์', 'สัมมนา', 'กิจกรรมวิชาการ']\n",
    "\n",
    "result = {\n",
    "    'interesting': {\n",
    "        activity: 1 if activity in interesting_set else 0\n",
    "        for activity in activities\n",
    "    }\n",
    "}\n",
    "\n",
    "result"
   ]
  },
  {
   "cell_type": "code",
   "execution_count": 3,
   "id": "32af3644",
   "metadata": {},
   "outputs": [
    {
     "name": "stdout",
     "output_type": "stream",
     "text": [
      "{'favorite': {'กิจกรรมอาสา': 2, 'Open House': 2, 'กิจกรรมคณะวิศวะ': 3, 'กิจกรรมคณะวิทย์': 3, 'ประกวด': 2, 'สัมมนา': 2, 'สันทนาการ': 2, 'กิจกรรมวิชาการ': 2}}\n"
     ]
    }
   ],
   "source": [
    "from collections import Counter\n",
    "\n",
    "activitiesty = [\n",
    "    'กิจกรรมอาสา', 'Open House', 'กิจกรรมคณะวิศวะ', 'กิจกรรมคณะวิทย์', 'ประกวด', 'สัมมนา',\n",
    "    'สันทนาการ', 'กิจกรรมวิชาการ', 'กิจกรรมอาสา', 'Open House', 'กิจกรรมคณะวิศวะ',\n",
    "    'กิจกรรมคณะวิทย์', 'ประกวด', 'สัมมนา', 'สันทนาการ', 'กิจกรรมวิชาการ',\n",
    "    'กิจกรรมคณะวิศวะ', 'กิจกรรมคณะวิทย์', 'กิจกรรมคณะวิทย์','กิจกรรมคณะวิทย์','กิจกรรมคณะวิทย์',\n",
    "]\n",
    "\n",
    "counts = Counter(activities)\n",
    "\n",
    "# เติมค่า 0 ถ้าไม่มีใน counts\n",
    "full_counts = {activity: counts.get(activity, 0) for activity in activitiesty}\n",
    "\n",
    "result = {'favorite': full_counts}\n",
    "\n",
    "print(result)\n"
   ]
  },
  {
   "cell_type": "code",
   "execution_count": 4,
   "id": "4fe60da7",
   "metadata": {},
   "outputs": [
    {
     "name": "stdout",
     "output_type": "stream",
     "text": [
      "{'favorite': {'กิจกรรมอาสา': 2, 'Open House': 2, 'กิจกรรมคณะวิศวะ': 3, 'กิจกรรมคณะวิทย์': 6, 'อบรม': 0, 'ประกวด': 2, 'สัมมนา': 2, 'สันทนาการ': 2, 'ชมรม': 0, 'กิจกรรมวิชาการ': 2}}\n"
     ]
    }
   ],
   "source": [
    "from collections import Counter\n",
    "\n",
    "# นับจำนวนกิจกรรมที่ user ชอบ\n",
    "counts = Counter(activitiesty)\n",
    "\n",
    "# สร้าง dict โดยใส่เฉพาะ activity_type ที่อยู่ในระบบเท่านั้น และใส่ 0 ถ้าไม่มี\n",
    "result = {\n",
    "    'favorite': {activity: counts.get(activity, 0) for activity in activities}\n",
    "}\n",
    "\n",
    "print(result)\n"
   ]
  }
 ],
 "metadata": {
  "kernelspec": {
   "display_name": "Python 3",
   "language": "python",
   "name": "python3"
  },
  "language_info": {
   "codemirror_mode": {
    "name": "ipython",
    "version": 3
   },
   "file_extension": ".py",
   "mimetype": "text/x-python",
   "name": "python",
   "nbconvert_exporter": "python",
   "pygments_lexer": "ipython3",
   "version": "3.10.7"
  }
 },
 "nbformat": 4,
 "nbformat_minor": 5
}
